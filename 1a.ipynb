{
 "cells": [
  {
   "cell_type": "code",
   "execution_count": 11,
   "id": "aa592f61-0b14-4aa7-a091-21b760a94c31",
   "metadata": {},
   "outputs": [
    {
     "name": "stdout",
     "output_type": "stream",
     "text": [
      "4\n"
     ]
    }
   ],
   "source": [
    "class Solution:\n",
    "    def solve(self, board):\n",
    "        dict = {}\n",
    "        flatten = []\n",
    "        # Flatten the board into a tuple representation\n",
    "        for i in range(len(board)):\n",
    "            flatten += board[i]\n",
    "        flatten = tuple(flatten)\n",
    "        dict[flatten] = 0\n",
    "        \n",
    "        # Define the target state\n",
    "        target = (0, 1, 2, 3, 4, 5, 6, 7, 8)\n",
    "        \n",
    "        # If the board is already in the target state, return 0\n",
    "        if flatten == target:\n",
    "            return 0\n",
    "        \n",
    "        return self.get_paths(dict, target)\n",
    "\n",
    "    def get_paths(self, dict, target):\n",
    "        cnt = 0\n",
    "        while True:\n",
    "            current_nodes = [x for x in dict if dict[x] == cnt]\n",
    "            \n",
    "            if len(current_nodes) == 0:\n",
    "                return -1  # No more nodes to explore, puzzle is unsolvable\n",
    "\n",
    "            for node in current_nodes:\n",
    "                next_moves = self.find_next(node)\n",
    "                for move in next_moves:\n",
    "                    if move not in dict:  # New state\n",
    "                        dict[move] = cnt + 1\n",
    "                        if move == target:  # Found the solution\n",
    "                            return cnt + 1\n",
    "            cnt += 1\n",
    "\n",
    "    def find_next(self, node):\n",
    "        moves = {\n",
    "            0: [1, 3],\n",
    "            1: [0, 2, 4],\n",
    "            2: [1, 5],\n",
    "            3: [0, 4, 6],\n",
    "            4: [1, 3, 5, 7],\n",
    "            5: [2, 4, 8],\n",
    "            6: [3, 7],\n",
    "            7: [4, 6, 8],\n",
    "            8: [5, 7],\n",
    "        }\n",
    "        results = []\n",
    "        pos_0 = node.index(0)  # Find the position of the empty space (0)\n",
    "        for move in moves[pos_0]:  # Get possible moves for the empty space\n",
    "            new_node = list(node)\n",
    "            new_node[move], new_node[pos_0] = new_node[pos_0], new_node[move]  # Swap positions\n",
    "            results.append(tuple(new_node))  # Append the new state as a tuple\n",
    "        return results\n",
    "\n",
    "\n",
    "# Example usage\n",
    "ob = Solution()\n",
    "matrix = [[3, 1, 2], [4, 7, 5], [6, 8, 0]]\n",
    "print(ob.solve(matrix))\n"
   ]
  },
  {
   "cell_type": "code",
   "execution_count": null,
   "id": "22c43b1d-dd3c-463a-83c9-b225dc22ae0a",
   "metadata": {},
   "outputs": [],
   "source": []
  }
 ],
 "metadata": {
  "kernelspec": {
   "display_name": "Python [conda env:base] *",
   "language": "python",
   "name": "conda-base-py"
  },
  "language_info": {
   "codemirror_mode": {
    "name": "ipython",
    "version": 3
   },
   "file_extension": ".py",
   "mimetype": "text/x-python",
   "name": "python",
   "nbconvert_exporter": "python",
   "pygments_lexer": "ipython3",
   "version": "3.12.7"
  }
 },
 "nbformat": 4,
 "nbformat_minor": 5
}
