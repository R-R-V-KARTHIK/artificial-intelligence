{
 "cells": [
  {
   "cell_type": "code",
   "execution_count": 11,
   "id": "4440fa74-63fa-4703-b2a2-6260608d6224",
   "metadata": {},
   "outputs": [
    {
     "name": "stdout",
     "output_type": "stream",
     "text": [
      "Following is Breadth First Traversal (starting from vertex 2)\n",
      "2 0 3 1 "
     ]
    }
   ],
   "source": [
    "from collections import defaultdict, deque\n",
    "\n",
    "class Graph:\n",
    "    def __init__(self):\n",
    "        # Initialize the graph using defaultdict\n",
    "        self.graph = defaultdict(list)\n",
    "        \n",
    "    def add_edge(self, u, v):\n",
    "        # Add edge to the graph (directed)\n",
    "        self.graph[u].append(v)\n",
    "        \n",
    "    def BFS(self, start_vertex):\n",
    "        # Create a queue and visited set\n",
    "        queue = deque()\n",
    "        visited = set()\n",
    "        \n",
    "        # Enqueue start_vertex and mark it visited\n",
    "        queue.append(start_vertex)\n",
    "        visited.add(start_vertex)\n",
    "        \n",
    "        # Process vertices in queue\n",
    "        while queue:\n",
    "            # Dequeue a vertex\n",
    "            current_vertex = queue.popleft()\n",
    "            print(current_vertex, end=\" \")\n",
    "            \n",
    "            # Process all neighbors\n",
    "            for neighbor in self.graph[current_vertex]:\n",
    "                if neighbor not in visited:\n",
    "                    visited.add(neighbor)\n",
    "                    queue.append(neighbor)\n",
    "\n",
    "# Driver code\n",
    "if __name__ == \"__main__\":\n",
    "    # Create a graph\n",
    "    g = Graph()\n",
    "    \n",
    "    # Add edges to get the specific output \"2 0 3 1 3\"\n",
    "    g.add_edge(2, 0)\n",
    "    g.add_edge(2, 3)\n",
    "    g.add_edge(0, 1)\n",
    "    g.add_edge(0, 3)\n",
    "    g.add_edge(1, 3)\n",
    "    \n",
    "    print(\"Following is Breadth First Traversal (starting from vertex 2)\")\n",
    "    g.BFS(2)"
   ]
  },
  {
   "cell_type": "code",
   "execution_count": null,
   "id": "a5bb1665-5ab6-43a1-ae5e-57674ba6edc5",
   "metadata": {},
   "outputs": [],
   "source": []
  },
  {
   "cell_type": "code",
   "execution_count": null,
   "id": "2119a5dc-2532-4153-97a4-1cbcdc0b18a3",
   "metadata": {},
   "outputs": [],
   "source": []
  }
 ],
 "metadata": {
  "kernelspec": {
   "display_name": "Python [conda env:base] *",
   "language": "python",
   "name": "conda-base-py"
  },
  "language_info": {
   "codemirror_mode": {
    "name": "ipython",
    "version": 3
   },
   "file_extension": ".py",
   "mimetype": "text/x-python",
   "name": "python",
   "nbconvert_exporter": "python",
   "pygments_lexer": "ipython3",
   "version": "3.12.7"
  }
 },
 "nbformat": 4,
 "nbformat_minor": 5
}
